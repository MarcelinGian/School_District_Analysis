{
 "cells": [
  {
   "cell_type": "code",
   "execution_count": 2,
   "id": "2a2ca00a",
   "metadata": {},
   "outputs": [],
   "source": [
    "# Define the function \"say_hello\" so it prints \"Hello!\" when called.\n",
    "def say_hello():\n",
    "    print(\"Hello!\")"
   ]
  },
  {
   "cell_type": "code",
   "execution_count": 3,
   "id": "a71e8512",
   "metadata": {},
   "outputs": [
    {
     "name": "stdout",
     "output_type": "stream",
     "text": [
      "Hello!\n"
     ]
    }
   ],
   "source": [
    "# Call the function\n",
    "say_hello()"
   ]
  },
  {
   "cell_type": "code",
   "execution_count": 4,
   "id": "a20b2669",
   "metadata": {},
   "outputs": [],
   "source": [
    "# Define the function \"say_something\" & add a parameter {inside the\"()} so it prints whatever\n",
    "# ...whatever is passed as the variable when called.\n",
    "\n",
    "def say_something(something):\n",
    "    print(something)"
   ]
  },
  {
   "cell_type": "code",
   "execution_count": 5,
   "id": "3de2ad9b",
   "metadata": {},
   "outputs": [
    {
     "name": "stdout",
     "output_type": "stream",
     "text": [
      "Hello World!\n"
     ]
    }
   ],
   "source": [
    "# Call the function\n",
    "say_something(\"Hello World!\")"
   ]
  },
  {
   "cell_type": "code",
   "execution_count": 7,
   "id": "86a5f5ae",
   "metadata": {},
   "outputs": [
    {
     "name": "stdout",
     "output_type": "stream",
     "text": [
      "Hi, my name is Jane. I'm learning Python!\n"
     ]
    }
   ],
   "source": [
    "# We can also pass a variable inside the function and have that variable printed to the output\n",
    "Jane_says = \"Hi, my name is Jane. I'm learning Python!\"\n",
    "say_something(Jane_says)"
   ]
  },
  {
   "cell_type": "code",
   "execution_count": 15,
   "id": "2481b285",
   "metadata": {},
   "outputs": [],
   "source": [
    "# THe Pandas \"map()\" Function\n",
    "# The map() function is used for substituting each value in a Series with another value.\n",
    "\n",
    "# A list of my grades.\n",
    "my_grades = ['B', 'C', 'B', 'D']"
   ]
  },
  {
   "cell_type": "code",
   "execution_count": 16,
   "id": "e5fa39c6",
   "metadata": {},
   "outputs": [
    {
     "data": {
      "text/plain": [
       "0    B\n",
       "1    C\n",
       "2    B\n",
       "3    D\n",
       "dtype: object"
      ]
     },
     "execution_count": 16,
     "metadata": {},
     "output_type": "execute_result"
    }
   ],
   "source": [
    "#Next, we'll import Pandas and convert the list to a Series.\n",
    "import pandas as pd\n",
    "\n",
    "# Convert the my_grades to a Series\n",
    "my_grades = pd.Series(my_grades)\n",
    "my_grades\n",
    "\n"
   ]
  },
  {
   "cell_type": "code",
   "execution_count": 19,
   "id": "c7f05770",
   "metadata": {},
   "outputs": [
    {
     "data": {
      "text/plain": [
       "0    A\n",
       "1    B\n",
       "2    A\n",
       "3    C\n",
       "dtype: object"
      ]
     },
     "execution_count": 19,
     "metadata": {},
     "output_type": "execute_result"
    }
   ],
   "source": [
    "# Using the map() function we can change each string value in this Series to \n",
    "# ...another value using the following format:\n",
    "\n",
    "# 'map(\"current_value_1\" : \"new_value_1\",  \"current_value_2\" : \"new_value_2\", etc)'\n",
    "\n",
    "#Change the grades by one letter grade.\n",
    "my_grades.map({'B': 'A', 'C': 'B', 'D': 'C'})\n"
   ]
  },
  {
   "cell_type": "code",
   "execution_count": 22,
   "id": "625db170",
   "metadata": {},
   "outputs": [
    {
     "name": "stdout",
     "output_type": "stream",
     "text": [
      "92.3\n",
      "84.6\n",
      "86.8\n",
      "98.3\n"
     ]
    }
   ],
   "source": [
    "#THE PYTHON \"format()\"\" FUNCTION 4.7.8\n",
    "# SYNTAX... : \"{value:format specification}\".format(value)\n",
    "\n",
    "#Using the format() function.\n",
    "my_grades = [92.34, 84.56, 86.78, 98.32]\n",
    "\n",
    "for grade in my_grades:\n",
    "    print(\"{:.1f}\".format(grade))\n",
    "    \n",
    "# ALTERNATIVE FOR NO DECIMAP PLACES: Change \"1f\" to \"0f\":\n",
    "## for grade in my_grades:\n",
    "    ## print(\"{:.1f}\".format(grade))"
   ]
  },
  {
   "cell_type": "code",
   "execution_count": 23,
   "id": "4c59bd23",
   "metadata": {},
   "outputs": [
    {
     "data": {
      "text/plain": [
       "0    92.34\n",
       "1    84.56\n",
       "2    86.78\n",
       "3    78.32\n",
       "dtype: float64"
      ]
     },
     "execution_count": 23,
     "metadata": {},
     "output_type": "execute_result"
    }
   ],
   "source": [
    "# CHAINING FUNCTIONS: \"map()\" & \"format()\"\n",
    "\n",
    "# a. Convert the numerical gradesd to a Series.\n",
    "my_grades = pd.Series([92.34, 84.56, 86.78, 78.32])\n",
    "my_grades"
   ]
  },
  {
   "cell_type": "code",
   "execution_count": 25,
   "id": "dbfa6e81",
   "metadata": {},
   "outputs": [
    {
     "data": {
      "text/plain": [
       "0    92\n",
       "1    85\n",
       "2    87\n",
       "3    78\n",
       "dtype: object"
      ]
     },
     "execution_count": 25,
     "metadata": {},
     "output_type": "execute_result"
    }
   ],
   "source": [
    "# b. format the grades to the nearest whole number percent\n",
    "my_grades.map(\"{:.0f}\" .format)"
   ]
  },
  {
   "cell_type": "code",
   "execution_count": null,
   "id": "5785162a",
   "metadata": {},
   "outputs": [],
   "source": []
  }
 ],
 "metadata": {
  "kernelspec": {
   "display_name": "PythonData",
   "language": "python",
   "name": "pythondata"
  },
  "language_info": {
   "codemirror_mode": {
    "name": "ipython",
    "version": 3
   },
   "file_extension": ".py",
   "mimetype": "text/x-python",
   "name": "python",
   "nbconvert_exporter": "python",
   "pygments_lexer": "ipython3",
   "version": "3.7.13"
  }
 },
 "nbformat": 4,
 "nbformat_minor": 5
}
